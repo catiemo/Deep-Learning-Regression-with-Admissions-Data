{
 "cells": [
  {
   "cell_type": "markdown",
   "id": "23b3ec64",
   "metadata": {},
   "source": [
    "### Importing Libraries"
   ]
  },
  {
   "cell_type": "code",
   "execution_count": 1,
   "id": "62e41e7d",
   "metadata": {},
   "outputs": [],
   "source": [
    "import pandas as pd\n",
    "import numpy as np\n",
    "import matplotlib.pyplot as plt\n",
    "\n",
    "import tensorflow as tf\n",
    "from tensorflow\timport keras\n",
    "from tensorflow.keras.models import Sequential\n",
    "from tensorflow.keras.callbacks import EarlyStopping\n",
    "from tensorflow.keras import layers\n",
    "\n",
    "from sklearn.compose import ColumnTransformer\n",
    "from sklearn.model_selection import train_test_split\n",
    "from sklearn.preprocessing import StandardScaler\n",
    "from sklearn.preprocessing import Normalizer\n",
    "from sklearn.metrics import r2_score"
   ]
  },
  {
   "cell_type": "markdown",
   "id": "0a9570fb",
   "metadata": {},
   "source": [
    "### Reading csv file"
   ]
  },
  {
   "cell_type": "code",
   "execution_count": 2,
   "id": "0809b85a",
   "metadata": {},
   "outputs": [
    {
     "data": {
      "text/html": [
       "<div>\n",
       "<style scoped>\n",
       "    .dataframe tbody tr th:only-of-type {\n",
       "        vertical-align: middle;\n",
       "    }\n",
       "\n",
       "    .dataframe tbody tr th {\n",
       "        vertical-align: top;\n",
       "    }\n",
       "\n",
       "    .dataframe thead th {\n",
       "        text-align: right;\n",
       "    }\n",
       "</style>\n",
       "<table border=\"1\" class=\"dataframe\">\n",
       "  <thead>\n",
       "    <tr style=\"text-align: right;\">\n",
       "      <th></th>\n",
       "      <th>Serial No.</th>\n",
       "      <th>GRE Score</th>\n",
       "      <th>TOEFL Score</th>\n",
       "      <th>University Rating</th>\n",
       "      <th>SOP</th>\n",
       "      <th>LOR</th>\n",
       "      <th>CGPA</th>\n",
       "      <th>Research</th>\n",
       "      <th>Chance of Admit</th>\n",
       "    </tr>\n",
       "  </thead>\n",
       "  <tbody>\n",
       "    <tr>\n",
       "      <th>0</th>\n",
       "      <td>1</td>\n",
       "      <td>337</td>\n",
       "      <td>118</td>\n",
       "      <td>4</td>\n",
       "      <td>4.5</td>\n",
       "      <td>4.5</td>\n",
       "      <td>9.65</td>\n",
       "      <td>1</td>\n",
       "      <td>0.92</td>\n",
       "    </tr>\n",
       "    <tr>\n",
       "      <th>1</th>\n",
       "      <td>2</td>\n",
       "      <td>324</td>\n",
       "      <td>107</td>\n",
       "      <td>4</td>\n",
       "      <td>4.0</td>\n",
       "      <td>4.5</td>\n",
       "      <td>8.87</td>\n",
       "      <td>1</td>\n",
       "      <td>0.76</td>\n",
       "    </tr>\n",
       "    <tr>\n",
       "      <th>2</th>\n",
       "      <td>3</td>\n",
       "      <td>316</td>\n",
       "      <td>104</td>\n",
       "      <td>3</td>\n",
       "      <td>3.0</td>\n",
       "      <td>3.5</td>\n",
       "      <td>8.00</td>\n",
       "      <td>1</td>\n",
       "      <td>0.72</td>\n",
       "    </tr>\n",
       "    <tr>\n",
       "      <th>3</th>\n",
       "      <td>4</td>\n",
       "      <td>322</td>\n",
       "      <td>110</td>\n",
       "      <td>3</td>\n",
       "      <td>3.5</td>\n",
       "      <td>2.5</td>\n",
       "      <td>8.67</td>\n",
       "      <td>1</td>\n",
       "      <td>0.80</td>\n",
       "    </tr>\n",
       "    <tr>\n",
       "      <th>4</th>\n",
       "      <td>5</td>\n",
       "      <td>314</td>\n",
       "      <td>103</td>\n",
       "      <td>2</td>\n",
       "      <td>2.0</td>\n",
       "      <td>3.0</td>\n",
       "      <td>8.21</td>\n",
       "      <td>0</td>\n",
       "      <td>0.65</td>\n",
       "    </tr>\n",
       "  </tbody>\n",
       "</table>\n",
       "</div>"
      ],
      "text/plain": [
       "   Serial No.  GRE Score  TOEFL Score  University Rating  SOP  LOR   CGPA  \\\n",
       "0           1        337          118                  4  4.5   4.5  9.65   \n",
       "1           2        324          107                  4  4.0   4.5  8.87   \n",
       "2           3        316          104                  3  3.0   3.5  8.00   \n",
       "3           4        322          110                  3  3.5   2.5  8.67   \n",
       "4           5        314          103                  2  2.0   3.0  8.21   \n",
       "\n",
       "   Research  Chance of Admit   \n",
       "0         1              0.92  \n",
       "1         1              0.76  \n",
       "2         1              0.72  \n",
       "3         1              0.80  \n",
       "4         0              0.65  "
      ]
     },
     "execution_count": 2,
     "metadata": {},
     "output_type": "execute_result"
    }
   ],
   "source": [
    "admissions = pd.read_csv('admissions_data.csv')\n",
    "admissions.head()"
   ]
  },
  {
   "cell_type": "markdown",
   "id": "ece8e0c5",
   "metadata": {},
   "source": [
    "### Inspecting Data"
   ]
  },
  {
   "cell_type": "code",
   "execution_count": 3,
   "id": "9ec17b5e",
   "metadata": {},
   "outputs": [
    {
     "name": "stdout",
     "output_type": "stream",
     "text": [
      "<class 'pandas.core.frame.DataFrame'>\n",
      "RangeIndex: 500 entries, 0 to 499\n",
      "Data columns (total 9 columns):\n",
      " #   Column             Non-Null Count  Dtype  \n",
      "---  ------             --------------  -----  \n",
      " 0   Serial No.         500 non-null    int64  \n",
      " 1   GRE Score          500 non-null    int64  \n",
      " 2   TOEFL Score        500 non-null    int64  \n",
      " 3   University Rating  500 non-null    int64  \n",
      " 4   SOP                500 non-null    float64\n",
      " 5   LOR                500 non-null    float64\n",
      " 6   CGPA               500 non-null    float64\n",
      " 7   Research           500 non-null    int64  \n",
      " 8   Chance of Admit    500 non-null    float64\n",
      "dtypes: float64(4), int64(5)\n",
      "memory usage: 35.3 KB\n"
     ]
    }
   ],
   "source": [
    "admissions.info()"
   ]
  },
  {
   "cell_type": "code",
   "execution_count": 4,
   "id": "8df6b4c2",
   "metadata": {},
   "outputs": [
    {
     "data": {
      "text/html": [
       "<div>\n",
       "<style scoped>\n",
       "    .dataframe tbody tr th:only-of-type {\n",
       "        vertical-align: middle;\n",
       "    }\n",
       "\n",
       "    .dataframe tbody tr th {\n",
       "        vertical-align: top;\n",
       "    }\n",
       "\n",
       "    .dataframe thead th {\n",
       "        text-align: right;\n",
       "    }\n",
       "</style>\n",
       "<table border=\"1\" class=\"dataframe\">\n",
       "  <thead>\n",
       "    <tr style=\"text-align: right;\">\n",
       "      <th></th>\n",
       "      <th>Serial No.</th>\n",
       "      <th>GRE Score</th>\n",
       "      <th>TOEFL Score</th>\n",
       "      <th>University Rating</th>\n",
       "      <th>SOP</th>\n",
       "      <th>LOR</th>\n",
       "      <th>CGPA</th>\n",
       "      <th>Research</th>\n",
       "      <th>Chance of Admit</th>\n",
       "    </tr>\n",
       "  </thead>\n",
       "  <tbody>\n",
       "    <tr>\n",
       "      <th>count</th>\n",
       "      <td>500.000000</td>\n",
       "      <td>500.000000</td>\n",
       "      <td>500.000000</td>\n",
       "      <td>500.000000</td>\n",
       "      <td>500.000000</td>\n",
       "      <td>500.00000</td>\n",
       "      <td>500.000000</td>\n",
       "      <td>500.000000</td>\n",
       "      <td>500.00000</td>\n",
       "    </tr>\n",
       "    <tr>\n",
       "      <th>mean</th>\n",
       "      <td>250.500000</td>\n",
       "      <td>316.472000</td>\n",
       "      <td>107.192000</td>\n",
       "      <td>3.114000</td>\n",
       "      <td>3.374000</td>\n",
       "      <td>3.48400</td>\n",
       "      <td>8.576440</td>\n",
       "      <td>0.560000</td>\n",
       "      <td>0.72174</td>\n",
       "    </tr>\n",
       "    <tr>\n",
       "      <th>std</th>\n",
       "      <td>144.481833</td>\n",
       "      <td>11.295148</td>\n",
       "      <td>6.081868</td>\n",
       "      <td>1.143512</td>\n",
       "      <td>0.991004</td>\n",
       "      <td>0.92545</td>\n",
       "      <td>0.604813</td>\n",
       "      <td>0.496884</td>\n",
       "      <td>0.14114</td>\n",
       "    </tr>\n",
       "    <tr>\n",
       "      <th>min</th>\n",
       "      <td>1.000000</td>\n",
       "      <td>290.000000</td>\n",
       "      <td>92.000000</td>\n",
       "      <td>1.000000</td>\n",
       "      <td>1.000000</td>\n",
       "      <td>1.00000</td>\n",
       "      <td>6.800000</td>\n",
       "      <td>0.000000</td>\n",
       "      <td>0.34000</td>\n",
       "    </tr>\n",
       "    <tr>\n",
       "      <th>25%</th>\n",
       "      <td>125.750000</td>\n",
       "      <td>308.000000</td>\n",
       "      <td>103.000000</td>\n",
       "      <td>2.000000</td>\n",
       "      <td>2.500000</td>\n",
       "      <td>3.00000</td>\n",
       "      <td>8.127500</td>\n",
       "      <td>0.000000</td>\n",
       "      <td>0.63000</td>\n",
       "    </tr>\n",
       "    <tr>\n",
       "      <th>50%</th>\n",
       "      <td>250.500000</td>\n",
       "      <td>317.000000</td>\n",
       "      <td>107.000000</td>\n",
       "      <td>3.000000</td>\n",
       "      <td>3.500000</td>\n",
       "      <td>3.50000</td>\n",
       "      <td>8.560000</td>\n",
       "      <td>1.000000</td>\n",
       "      <td>0.72000</td>\n",
       "    </tr>\n",
       "    <tr>\n",
       "      <th>75%</th>\n",
       "      <td>375.250000</td>\n",
       "      <td>325.000000</td>\n",
       "      <td>112.000000</td>\n",
       "      <td>4.000000</td>\n",
       "      <td>4.000000</td>\n",
       "      <td>4.00000</td>\n",
       "      <td>9.040000</td>\n",
       "      <td>1.000000</td>\n",
       "      <td>0.82000</td>\n",
       "    </tr>\n",
       "    <tr>\n",
       "      <th>max</th>\n",
       "      <td>500.000000</td>\n",
       "      <td>340.000000</td>\n",
       "      <td>120.000000</td>\n",
       "      <td>5.000000</td>\n",
       "      <td>5.000000</td>\n",
       "      <td>5.00000</td>\n",
       "      <td>9.920000</td>\n",
       "      <td>1.000000</td>\n",
       "      <td>0.97000</td>\n",
       "    </tr>\n",
       "  </tbody>\n",
       "</table>\n",
       "</div>"
      ],
      "text/plain": [
       "       Serial No.   GRE Score  TOEFL Score  University Rating         SOP  \\\n",
       "count  500.000000  500.000000   500.000000         500.000000  500.000000   \n",
       "mean   250.500000  316.472000   107.192000           3.114000    3.374000   \n",
       "std    144.481833   11.295148     6.081868           1.143512    0.991004   \n",
       "min      1.000000  290.000000    92.000000           1.000000    1.000000   \n",
       "25%    125.750000  308.000000   103.000000           2.000000    2.500000   \n",
       "50%    250.500000  317.000000   107.000000           3.000000    3.500000   \n",
       "75%    375.250000  325.000000   112.000000           4.000000    4.000000   \n",
       "max    500.000000  340.000000   120.000000           5.000000    5.000000   \n",
       "\n",
       "            LOR         CGPA    Research  Chance of Admit   \n",
       "count  500.00000  500.000000  500.000000         500.00000  \n",
       "mean     3.48400    8.576440    0.560000           0.72174  \n",
       "std      0.92545    0.604813    0.496884           0.14114  \n",
       "min      1.00000    6.800000    0.000000           0.34000  \n",
       "25%      3.00000    8.127500    0.000000           0.63000  \n",
       "50%      3.50000    8.560000    1.000000           0.72000  \n",
       "75%      4.00000    9.040000    1.000000           0.82000  \n",
       "max      5.00000    9.920000    1.000000           0.97000  "
      ]
     },
     "execution_count": 4,
     "metadata": {},
     "output_type": "execute_result"
    }
   ],
   "source": [
    "admissions.describe()"
   ]
  },
  {
   "cell_type": "markdown",
   "id": "9b4e5255",
   "metadata": {},
   "source": [
    "### Labels and Features selection"
   ]
  },
  {
   "cell_type": "code",
   "execution_count": 5,
   "id": "b0d31b01",
   "metadata": {},
   "outputs": [
    {
     "data": {
      "text/html": [
       "<div>\n",
       "<style scoped>\n",
       "    .dataframe tbody tr th:only-of-type {\n",
       "        vertical-align: middle;\n",
       "    }\n",
       "\n",
       "    .dataframe tbody tr th {\n",
       "        vertical-align: top;\n",
       "    }\n",
       "\n",
       "    .dataframe thead th {\n",
       "        text-align: right;\n",
       "    }\n",
       "</style>\n",
       "<table border=\"1\" class=\"dataframe\">\n",
       "  <thead>\n",
       "    <tr style=\"text-align: right;\">\n",
       "      <th></th>\n",
       "      <th>Serial No.</th>\n",
       "      <th>GRE Score</th>\n",
       "      <th>TOEFL Score</th>\n",
       "      <th>University Rating</th>\n",
       "      <th>SOP</th>\n",
       "      <th>LOR</th>\n",
       "      <th>CGPA</th>\n",
       "      <th>Research</th>\n",
       "    </tr>\n",
       "  </thead>\n",
       "  <tbody>\n",
       "    <tr>\n",
       "      <th>0</th>\n",
       "      <td>1</td>\n",
       "      <td>337</td>\n",
       "      <td>118</td>\n",
       "      <td>4</td>\n",
       "      <td>4.5</td>\n",
       "      <td>4.5</td>\n",
       "      <td>9.65</td>\n",
       "      <td>1</td>\n",
       "    </tr>\n",
       "    <tr>\n",
       "      <th>1</th>\n",
       "      <td>2</td>\n",
       "      <td>324</td>\n",
       "      <td>107</td>\n",
       "      <td>4</td>\n",
       "      <td>4.0</td>\n",
       "      <td>4.5</td>\n",
       "      <td>8.87</td>\n",
       "      <td>1</td>\n",
       "    </tr>\n",
       "    <tr>\n",
       "      <th>2</th>\n",
       "      <td>3</td>\n",
       "      <td>316</td>\n",
       "      <td>104</td>\n",
       "      <td>3</td>\n",
       "      <td>3.0</td>\n",
       "      <td>3.5</td>\n",
       "      <td>8.00</td>\n",
       "      <td>1</td>\n",
       "    </tr>\n",
       "    <tr>\n",
       "      <th>3</th>\n",
       "      <td>4</td>\n",
       "      <td>322</td>\n",
       "      <td>110</td>\n",
       "      <td>3</td>\n",
       "      <td>3.5</td>\n",
       "      <td>2.5</td>\n",
       "      <td>8.67</td>\n",
       "      <td>1</td>\n",
       "    </tr>\n",
       "    <tr>\n",
       "      <th>4</th>\n",
       "      <td>5</td>\n",
       "      <td>314</td>\n",
       "      <td>103</td>\n",
       "      <td>2</td>\n",
       "      <td>2.0</td>\n",
       "      <td>3.0</td>\n",
       "      <td>8.21</td>\n",
       "      <td>0</td>\n",
       "    </tr>\n",
       "  </tbody>\n",
       "</table>\n",
       "</div>"
      ],
      "text/plain": [
       "   Serial No.  GRE Score  TOEFL Score  University Rating  SOP  LOR   CGPA  \\\n",
       "0           1        337          118                  4  4.5   4.5  9.65   \n",
       "1           2        324          107                  4  4.0   4.5  8.87   \n",
       "2           3        316          104                  3  3.0   3.5  8.00   \n",
       "3           4        322          110                  3  3.5   2.5  8.67   \n",
       "4           5        314          103                  2  2.0   3.0  8.21   \n",
       "\n",
       "   Research  \n",
       "0         1  \n",
       "1         1  \n",
       "2         1  \n",
       "3         1  \n",
       "4         0  "
      ]
     },
     "execution_count": 5,
     "metadata": {},
     "output_type": "execute_result"
    }
   ],
   "source": [
    "features = admissions.iloc[:,:-1]\n",
    "features.head()"
   ]
  },
  {
   "cell_type": "code",
   "execution_count": 6,
   "id": "f0bace40",
   "metadata": {},
   "outputs": [
    {
     "data": {
      "text/plain": [
       "0    0.92\n",
       "1    0.76\n",
       "2    0.72\n",
       "3    0.80\n",
       "4    0.65\n",
       "Name: Chance of Admit , dtype: float64"
      ]
     },
     "execution_count": 6,
     "metadata": {},
     "output_type": "execute_result"
    }
   ],
   "source": [
    "labels = admissions.iloc[:,-1]\n",
    "labels.head()"
   ]
  },
  {
   "cell_type": "markdown",
   "id": "3218e6d6",
   "metadata": {},
   "source": [
    "### Data split into training and testing sets"
   ]
  },
  {
   "cell_type": "code",
   "execution_count": 7,
   "id": "b04ede56",
   "metadata": {},
   "outputs": [],
   "source": [
    "features_train, features_test, labels_train, labels_test = train_test_split(features, labels, test_size = 0.2, random_state = 42)"
   ]
  },
  {
   "cell_type": "markdown",
   "id": "cdcc9e6c",
   "metadata": {},
   "source": [
    "### Standardize Numerical features"
   ]
  },
  {
   "cell_type": "code",
   "execution_count": 8,
   "id": "e9452438",
   "metadata": {},
   "outputs": [],
   "source": [
    "numerical_features = features.select_dtypes(include = ['float64', 'int64'])\n",
    "numerical_columns = numerical_features.columns"
   ]
  },
  {
   "cell_type": "code",
   "execution_count": 9,
   "id": "0d12ccf0",
   "metadata": {},
   "outputs": [],
   "source": [
    "ct = ColumnTransformer([('scale', StandardScaler(), numerical_columns)], remainder = 'passthrough')"
   ]
  },
  {
   "cell_type": "code",
   "execution_count": 10,
   "id": "7cbf02b6",
   "metadata": {},
   "outputs": [],
   "source": [
    "features_train = ct.fit_transform(features_train)\n",
    "features_test = ct.transform(features_test)"
   ]
  },
  {
   "cell_type": "markdown",
   "id": "02a3a718",
   "metadata": {},
   "source": [
    "### Building the model"
   ]
  },
  {
   "cell_type": "code",
   "execution_count": 11,
   "id": "cb0e598e",
   "metadata": {},
   "outputs": [],
   "source": [
    "model = Sequential()"
   ]
  },
  {
   "cell_type": "code",
   "execution_count": 12,
   "id": "a842d09e",
   "metadata": {},
   "outputs": [],
   "source": [
    "input = layers.InputLayer(input_shape = (features.shape[1], ))\n",
    "model.add(input)"
   ]
  },
  {
   "cell_type": "code",
   "execution_count": 13,
   "id": "a7dab76a",
   "metadata": {},
   "outputs": [],
   "source": [
    "hidden_1 = layers.Dense(64, activation = 'relu')\n",
    "model.add(hidden_1)\n",
    "model.add(layers.Dropout(0.3))\n",
    "\n",
    "hidden_2 = layers.Dense(24, activation = 'relu')\n",
    "model.add(hidden_2)\n",
    "model.add(layers.Dropout(0.2))"
   ]
  },
  {
   "cell_type": "code",
   "execution_count": 14,
   "id": "0f813148",
   "metadata": {},
   "outputs": [],
   "source": [
    "output = layers.Dense(1)\n",
    "model.add(output)"
   ]
  },
  {
   "cell_type": "code",
   "execution_count": 15,
   "id": "7c7f7584",
   "metadata": {},
   "outputs": [
    {
     "name": "stdout",
     "output_type": "stream",
     "text": [
      "Model: \"sequential\"\n",
      "_________________________________________________________________\n",
      " Layer (type)                Output Shape              Param #   \n",
      "=================================================================\n",
      " dense (Dense)               (None, 64)                576       \n",
      "                                                                 \n",
      " dropout (Dropout)           (None, 64)                0         \n",
      "                                                                 \n",
      " dense_1 (Dense)             (None, 24)                1560      \n",
      "                                                                 \n",
      " dropout_1 (Dropout)         (None, 24)                0         \n",
      "                                                                 \n",
      " dense_2 (Dense)             (None, 1)                 25        \n",
      "                                                                 \n",
      "=================================================================\n",
      "Total params: 2,161\n",
      "Trainable params: 2,161\n",
      "Non-trainable params: 0\n",
      "_________________________________________________________________\n"
     ]
    }
   ],
   "source": [
    "model.summary()"
   ]
  },
  {
   "cell_type": "markdown",
   "id": "371f69f2",
   "metadata": {},
   "source": [
    "### Initializing the optimizer and compiling the model"
   ]
  },
  {
   "cell_type": "code",
   "execution_count": 16,
   "id": "5a30c61e",
   "metadata": {},
   "outputs": [],
   "source": [
    "opt = tf.keras.optimizers.Adam(learning_rate = 0.01)\n",
    "model.compile(loss = 'mse', metrics = ['mae'], optimizer = opt)"
   ]
  },
  {
   "cell_type": "code",
   "execution_count": 17,
   "id": "c1041403",
   "metadata": {},
   "outputs": [
    {
     "name": "stdout",
     "output_type": "stream",
     "text": [
      "Epoch 1/50\n",
      "70/70 [==============================] - 3s 16ms/step - loss: 0.1390 - mae: 0.2758 - val_loss: 0.0423 - val_mae: 0.1796\n",
      "Epoch 2/50\n",
      "70/70 [==============================] - 1s 8ms/step - loss: 0.0335 - mae: 0.1492 - val_loss: 0.0210 - val_mae: 0.1214\n",
      "Epoch 3/50\n",
      "70/70 [==============================] - 1s 9ms/step - loss: 0.0199 - mae: 0.1110 - val_loss: 0.0071 - val_mae: 0.0702\n",
      "Epoch 4/50\n",
      "70/70 [==============================] - 1s 8ms/step - loss: 0.0112 - mae: 0.0824 - val_loss: 0.0055 - val_mae: 0.0571\n",
      "Epoch 5/50\n",
      "70/70 [==============================] - 1s 9ms/step - loss: 0.0081 - mae: 0.0712 - val_loss: 0.0052 - val_mae: 0.0534\n",
      "Epoch 6/50\n",
      "70/70 [==============================] - 1s 9ms/step - loss: 0.0073 - mae: 0.0673 - val_loss: 0.0057 - val_mae: 0.0607\n",
      "Epoch 7/50\n",
      "70/70 [==============================] - 1s 9ms/step - loss: 0.0072 - mae: 0.0662 - val_loss: 0.0109 - val_mae: 0.0879\n",
      "Epoch 8/50\n",
      "70/70 [==============================] - 1s 9ms/step - loss: 0.0076 - mae: 0.0679 - val_loss: 0.0044 - val_mae: 0.0485\n",
      "Epoch 9/50\n",
      "70/70 [==============================] - 1s 9ms/step - loss: 0.0058 - mae: 0.0604 - val_loss: 0.0050 - val_mae: 0.0514\n",
      "Epoch 10/50\n",
      "70/70 [==============================] - 1s 9ms/step - loss: 0.0059 - mae: 0.0600 - val_loss: 0.0038 - val_mae: 0.0429\n",
      "Epoch 11/50\n",
      "70/70 [==============================] - 1s 9ms/step - loss: 0.0068 - mae: 0.0629 - val_loss: 0.0045 - val_mae: 0.0484\n",
      "Epoch 12/50\n",
      "70/70 [==============================] - 1s 9ms/step - loss: 0.0053 - mae: 0.0557 - val_loss: 0.0038 - val_mae: 0.0446\n",
      "Epoch 13/50\n",
      "70/70 [==============================] - 1s 9ms/step - loss: 0.0049 - mae: 0.0547 - val_loss: 0.0042 - val_mae: 0.0498\n",
      "Epoch 14/50\n",
      "70/70 [==============================] - 1s 10ms/step - loss: 0.0060 - mae: 0.0604 - val_loss: 0.0058 - val_mae: 0.0651\n",
      "Epoch 15/50\n",
      "70/70 [==============================] - 1s 8ms/step - loss: 0.0057 - mae: 0.0600 - val_loss: 0.0036 - val_mae: 0.0429\n",
      "Epoch 16/50\n",
      "70/70 [==============================] - 1s 8ms/step - loss: 0.0062 - mae: 0.0612 - val_loss: 0.0049 - val_mae: 0.0580\n",
      "Epoch 17/50\n",
      "70/70 [==============================] - 1s 9ms/step - loss: 0.0051 - mae: 0.0546 - val_loss: 0.0047 - val_mae: 0.0556\n",
      "Epoch 18/50\n",
      "70/70 [==============================] - 1s 8ms/step - loss: 0.0054 - mae: 0.0567 - val_loss: 0.0040 - val_mae: 0.0438\n",
      "Epoch 19/50\n",
      "70/70 [==============================] - 1s 9ms/step - loss: 0.0058 - mae: 0.0587 - val_loss: 0.0046 - val_mae: 0.0490\n",
      "Epoch 20/50\n",
      "70/70 [==============================] - 1s 9ms/step - loss: 0.0043 - mae: 0.0510 - val_loss: 0.0037 - val_mae: 0.0430\n",
      "Epoch 21/50\n",
      "70/70 [==============================] - 1s 9ms/step - loss: 0.0057 - mae: 0.0573 - val_loss: 0.0056 - val_mae: 0.0632\n",
      "Epoch 22/50\n",
      "70/70 [==============================] - 1s 9ms/step - loss: 0.0052 - mae: 0.0530 - val_loss: 0.0042 - val_mae: 0.0510\n",
      "Epoch 23/50\n",
      "70/70 [==============================] - 1s 9ms/step - loss: 0.0051 - mae: 0.0555 - val_loss: 0.0050 - val_mae: 0.0589\n",
      "Epoch 24/50\n",
      "70/70 [==============================] - 1s 9ms/step - loss: 0.0066 - mae: 0.0627 - val_loss: 0.0051 - val_mae: 0.0553\n",
      "Epoch 25/50\n",
      "70/70 [==============================] - 1s 9ms/step - loss: 0.0058 - mae: 0.0604 - val_loss: 0.0043 - val_mae: 0.0434\n",
      "Epoch 26/50\n",
      "70/70 [==============================] - 1s 9ms/step - loss: 0.0057 - mae: 0.0577 - val_loss: 0.0059 - val_mae: 0.0551\n",
      "Epoch 27/50\n",
      "70/70 [==============================] - 1s 9ms/step - loss: 0.0049 - mae: 0.0555 - val_loss: 0.0035 - val_mae: 0.0423\n",
      "Epoch 28/50\n",
      "70/70 [==============================] - 1s 15ms/step - loss: 0.0049 - mae: 0.0542 - val_loss: 0.0056 - val_mae: 0.0620\n",
      "Epoch 29/50\n",
      "70/70 [==============================] - 1s 11ms/step - loss: 0.0051 - mae: 0.0557 - val_loss: 0.0041 - val_mae: 0.0423\n",
      "Epoch 30/50\n",
      "70/70 [==============================] - 1s 13ms/step - loss: 0.0057 - mae: 0.0563 - val_loss: 0.0079 - val_mae: 0.0770\n",
      "Epoch 31/50\n",
      "70/70 [==============================] - 1s 9ms/step - loss: 0.0068 - mae: 0.0639 - val_loss: 0.0040 - val_mae: 0.0490\n",
      "Epoch 32/50\n",
      "70/70 [==============================] - 1s 10ms/step - loss: 0.0056 - mae: 0.0588 - val_loss: 0.0041 - val_mae: 0.0447\n",
      "Epoch 33/50\n",
      "70/70 [==============================] - 1s 11ms/step - loss: 0.0057 - mae: 0.0563 - val_loss: 0.0055 - val_mae: 0.0620\n",
      "Epoch 34/50\n",
      "70/70 [==============================] - 1s 12ms/step - loss: 0.0058 - mae: 0.0595 - val_loss: 0.0056 - val_mae: 0.0624\n",
      "Epoch 35/50\n",
      "70/70 [==============================] - 1s 9ms/step - loss: 0.0052 - mae: 0.0564 - val_loss: 0.0061 - val_mae: 0.0569\n",
      "Epoch 36/50\n",
      "70/70 [==============================] - 1s 9ms/step - loss: 0.0054 - mae: 0.0566 - val_loss: 0.0052 - val_mae: 0.0497\n",
      "Epoch 37/50\n",
      "70/70 [==============================] - 1s 8ms/step - loss: 0.0060 - mae: 0.0596 - val_loss: 0.0048 - val_mae: 0.0560\n",
      "Epoch 38/50\n",
      "70/70 [==============================] - 1s 8ms/step - loss: 0.0053 - mae: 0.0574 - val_loss: 0.0046 - val_mae: 0.0554\n",
      "Epoch 39/50\n",
      "70/70 [==============================] - 1s 8ms/step - loss: 0.0066 - mae: 0.0606 - val_loss: 0.0067 - val_mae: 0.0580\n",
      "Epoch 40/50\n",
      "70/70 [==============================] - 1s 8ms/step - loss: 0.0069 - mae: 0.0651 - val_loss: 0.0050 - val_mae: 0.0550\n",
      "Epoch 41/50\n",
      "70/70 [==============================] - 1s 8ms/step - loss: 0.0059 - mae: 0.0595 - val_loss: 0.0037 - val_mae: 0.0450\n",
      "Epoch 42/50\n",
      "70/70 [==============================] - 1s 8ms/step - loss: 0.0064 - mae: 0.0608 - val_loss: 0.0040 - val_mae: 0.0453\n",
      "Epoch 43/50\n",
      "70/70 [==============================] - 1s 8ms/step - loss: 0.0068 - mae: 0.0635 - val_loss: 0.0045 - val_mae: 0.0518\n",
      "Epoch 44/50\n",
      "70/70 [==============================] - 1s 8ms/step - loss: 0.0064 - mae: 0.0601 - val_loss: 0.0049 - val_mae: 0.0502\n",
      "Epoch 45/50\n",
      "70/70 [==============================] - 1s 8ms/step - loss: 0.0051 - mae: 0.0556 - val_loss: 0.0052 - val_mae: 0.0551\n",
      "Epoch 46/50\n",
      "70/70 [==============================] - 1s 9ms/step - loss: 0.0055 - mae: 0.0589 - val_loss: 0.0041 - val_mae: 0.0524\n",
      "Epoch 47/50\n",
      "70/70 [==============================] - 1s 8ms/step - loss: 0.0054 - mae: 0.0573 - val_loss: 0.0055 - val_mae: 0.0591\n",
      "Epoch 00047: early stopping\n"
     ]
    }
   ],
   "source": [
    "es = EarlyStopping(monitor = 'val_loss', mode = 'min', verbose = 1, patience = 20)\n",
    "history = model.fit(features_train, labels_train, epochs = 50, batch_size = 4, verbose = 1, validation_split = 0.3, callbacks = [es])"
   ]
  },
  {
   "cell_type": "markdown",
   "id": "7aea1ffc",
   "metadata": {},
   "source": [
    "### Fit and evaluate the model"
   ]
  },
  {
   "cell_type": "code",
   "execution_count": 18,
   "id": "00abcf99",
   "metadata": {},
   "outputs": [],
   "source": [
    "val_mse, val_mae = model.evaluate(features_test, labels_test, verbose = 0)"
   ]
  },
  {
   "cell_type": "code",
   "execution_count": 19,
   "id": "0ae84854",
   "metadata": {},
   "outputs": [
    {
     "data": {
      "text/plain": [
       "0.00541345588862896"
      ]
     },
     "execution_count": 19,
     "metadata": {},
     "output_type": "execute_result"
    }
   ],
   "source": [
    "val_mse"
   ]
  },
  {
   "cell_type": "code",
   "execution_count": 20,
   "id": "09d90554",
   "metadata": {},
   "outputs": [
    {
     "data": {
      "text/plain": [
       "0.05769990012049675"
      ]
     },
     "execution_count": 20,
     "metadata": {},
     "output_type": "execute_result"
    }
   ],
   "source": [
    "val_mae"
   ]
  },
  {
   "cell_type": "code",
   "execution_count": 21,
   "id": "e8d54d68",
   "metadata": {},
   "outputs": [],
   "source": [
    "labels_predict = model.predict(features_test)"
   ]
  },
  {
   "cell_type": "code",
   "execution_count": 22,
   "id": "96f1acf9",
   "metadata": {},
   "outputs": [
    {
     "data": {
      "text/plain": [
       "0.7352833097981384"
      ]
     },
     "execution_count": 22,
     "metadata": {},
     "output_type": "execute_result"
    }
   ],
   "source": [
    "r2_score(labels_test, labels_predict)"
   ]
  },
  {
   "cell_type": "markdown",
   "id": "f8160aef",
   "metadata": {},
   "source": [
    "### Visualize MAE and Loss"
   ]
  },
  {
   "cell_type": "code",
   "execution_count": 23,
   "id": "8f7fcd77",
   "metadata": {},
   "outputs": [
    {
     "data": {
      "image/png": "[encoded data removed]",
      "text/plain": [
       "<Figure size 720x576 with 2 Axes>"
      ]
     },
     "metadata": {
      "needs_background": "light"
     },
     "output_type": "display_data"
    }
   ],
   "source": [
    "fig = plt.figure(figsize = (10, 8))\n",
    "ax1 = fig.add_subplot(2, 2, 1)\n",
    "ax1.plot(history.history['mae'])\n",
    "ax1.plot(history.history['val_mae'])\n",
    "ax1.set_title('model mae')\n",
    "ax1.set_ylabel('MAE')\n",
    "ax1.set_xlabel('epoch')\n",
    "ax1.legend(['train', 'validation'], loc='upper left')\n",
    "\n",
    "# Plot loss and val_loss over each epoch\n",
    "ax2 = fig.add_subplot(2, 2, 2)\n",
    "ax2.plot(history.history['loss'])\n",
    "ax2.plot(history.history['val_loss'])\n",
    "ax2.set_title('model loss')\n",
    "ax2.set_ylabel('loss')\n",
    "ax2.set_xlabel('epoch')\n",
    "ax2.legend(['train', 'validation'], loc='upper left')\n",
    "\n",
    "\n",
    "plt.show()"
   ]
  },
  {
   "cell_type": "code",
   "execution_count": null,
   "id": "3e5a4381",
   "metadata": {},
   "outputs": [],
   "source": []
  }
 ],
 "metadata": {
  "kernelspec": {
   "display_name": "Python 3",
   "language": "python",
   "name": "python3"
  },
  "language_info": {
   "codemirror_mode": {
    "name": "ipython",
    "version": 3
   },
   "file_extension": ".py",
   "mimetype": "text/x-python",
   "name": "python",
   "nbconvert_exporter": "python",
   "pygments_lexer": "ipython3",
   "version": "3.8.8"
  }
 },
 "nbformat": 4,
 "nbformat_minor": 5
}
